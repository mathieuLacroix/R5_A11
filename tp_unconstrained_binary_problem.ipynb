{
 "cells": [
  {
   "cell_type": "markdown",
   "id": "inside-retro",
   "metadata": {},
   "source": [
    "# Métaheuristique pour le problème quadratique binaire non constraint"
   ]
  },
  {
   "cell_type": "markdown",
   "id": "catholic-representation",
   "metadata": {},
   "source": [
    "## Définition du problème\n",
    "\n",
    "Soit $Q \\in \\mathbb{Z}^{n\\times n}$ une matrice symétrique.\n",
    "Soit $x_1,\\dots, x_n$ des variables binaires, c'est-à-dire pouvant prendre la valeur 0 ou 1.\n",
    "\n",
    "Le problème d'optimisation quadratique binaire non contraint consiste à déterminer la valeur des variables $x_j$, $j=1, \\dots, n$ maximisant :\n",
    "\n",
    "$$\n",
    "\\sum_{i = \\in \\{1,\\dots,n\\}} \\sum_{j \\in \\{1,\\dots,n\\}:i\\neq j} Q_{ij} x_i x_j\n",
    "$$\n",
    "\n",
    "On cherche à implémenter une métaheuristique pour résoudre ce problème."
   ]
  },
  {
   "cell_type": "code",
   "execution_count": 1,
   "id": "blind-chapter",
   "metadata": {},
   "outputs": [],
   "source": [
    "import random as r\n",
    "import math as m"
   ]
  },
  {
   "cell_type": "code",
   "execution_count": 2,
   "id": "collaborative-order",
   "metadata": {},
   "outputs": [
    {
     "name": "stdout",
     "output_type": "stream",
     "text": [
      "[0\t -32\t 92\t -5\t -67\t -69\t 89\t -61\t -51\t 59]\n",
      "[-32\t 0\t 10\t -38\t 11\t 98\t -69\t -51\t 87\t -38]\n",
      "[92\t 10\t 0\t -85\t 42\t -27\t 76\t 47\t 47\t -26]\n",
      "[-5\t -38\t -85\t 0\t -60\t 26\t -63\t 18\t 37\t 15]\n",
      "[-67\t 11\t 42\t -60\t 0\t 96\t 44\t 73\t 80\t -68]\n",
      "[-69\t 98\t -27\t 26\t 96\t 0\t 57\t -22\t -5\t -91]\n",
      "[89\t -69\t 76\t -63\t 44\t 57\t 0\t 56\t 74\t -37]\n",
      "[-61\t -51\t 47\t 18\t 73\t -22\t 56\t 0\t 12\t 39]\n",
      "[-51\t 87\t 47\t 37\t 80\t -5\t 74\t 12\t 0\t 26]\n",
      "[59\t -38\t -26\t 15\t -68\t -91\t -37\t 39\t 26\t 0]\n"
     ]
    }
   ],
   "source": [
    "def create_random_instance(n):\n",
    "    d = [ [r.randint(-100, 100) for _ in range(n)] for _ in range(n) ]\n",
    "    \n",
    "    for i in range(n):\n",
    "        for j in range(i + 1, n):\n",
    "            d[j][i] = d[i][j]\n",
    "        d[i][i] = 0\n",
    "    return d\n",
    "\n",
    "def afficher_instance(d):\n",
    "    n = len(d)\n",
    "    for i in range(n):\n",
    "        print(str(d[i]).replace(\",\", \"\\t\"))\n",
    "\n",
    "\n",
    "ins = create_random_instance(10)\n",
    "afficher_instance(ins)"
   ]
  },
  {
   "cell_type": "code",
   "execution_count": 3,
   "id": "express-direction",
   "metadata": {},
   "outputs": [
    {
     "name": "stdout",
     "output_type": "stream",
     "text": [
      "[0, 0, 0, 0, 1, 0, 0, 1, 1, 0]\n"
     ]
    }
   ],
   "source": [
    "def random_solution(ins):\n",
    "    return [ r.randint(0, 1) for _ in range(len(ins))]\n",
    "\n",
    "sol = random_solution(ins)\n",
    "print(sol)"
   ]
  },
  {
   "cell_type": "code",
   "execution_count": 4,
   "id": "positive-fighter",
   "metadata": {},
   "outputs": [
    {
     "name": "stdout",
     "output_type": "stream",
     "text": [
      "330\n"
     ]
    }
   ],
   "source": [
    "def cost_sol(ins, sol):\n",
    "    n = len(sol)\n",
    "    total = 0\n",
    "    for i in range(n):\n",
    "        for j in range(n):\n",
    "            total += ins[i][j] * sol[i] * sol[j]\n",
    "    return total\n",
    "\n",
    "print(cost_sol(ins, sol))"
   ]
  },
  {
   "cell_type": "markdown",
   "id": "according-touch",
   "metadata": {},
   "source": [
    "## Métaheuristique de descente"
   ]
  },
  {
   "cell_type": "code",
   "execution_count": 5,
   "id": "compound-slope",
   "metadata": {},
   "outputs": [],
   "source": [
    "def descente(ins, initial_sol, find_best_neighbor):\n",
    "    \"\"\"\n",
    "    Effectue une métaheuristique de type descente.\n",
    "    Paramètres : \n",
    "    - ins: instance du problème\n",
    "    - initial_sol: solution initial\n",
    "    - find_best_neighbor: fonction cherchant la meilleure solution voisine et \n",
    "                          mettant à jour la solution passée en paramètre.\n",
    "                          -> find_best_neighbor(ins, s) retourne True si s a été modifiée \n",
    "    \"\"\"\n",
    "    s = initial_sol.copy()\n",
    "    hasFoundBetterSol = True\n",
    "    while hasFoundBetterSol:\n",
    "        hasFoundBetterSol = find_best_neighbor(ins, s)\n",
    "    return s\n",
    "\n",
    "\n",
    "def find_best_1change(ins, s):\n",
    "    best = 0\n",
    "    best_ind = -1\n",
    "    for i in range(len(s)):\n",
    "        \n",
    "        diff = 0\n",
    "        for j in range(len(s)):\n",
    "            diff += ins[i][j] * s[j]\n",
    "        if s[i] == 1 and -diff > best: \n",
    "            best = -diff\n",
    "            best_ind = i\n",
    "        elif s[i] == 0 and diff > best:\n",
    "            best = diff\n",
    "            best_ind = i\n",
    "    if best > 0:\n",
    "        s[best_ind] = 1 if s[best_ind] == 0 else 0\n",
    "        return True\n",
    "    else:\n",
    "        return False"
   ]
  },
  {
   "cell_type": "code",
   "execution_count": 9,
   "id": "cognitive-purple",
   "metadata": {},
   "outputs": [],
   "source": [
    "def descente_multistart(ins, find_best_neighbor, n_tentatives):\n",
    "    best_solution = random_solution(ins) \n",
    "    for i in range(n_tentatives):\n",
    "        solution = random_solution(ins)\n",
    "        best_locale = descente(ins, solution, find_best_neighbor)\n",
    "        if cost_sol(ins, best_locale) > cost_sol(ins, best_solution):\n",
    "            best_solution = best_locale\n",
    "    return best_solution\n",
    "        \n",
    "    "
   ]
  },
  {
   "cell_type": "code",
   "execution_count": 19,
   "id": "industrial-edmonton",
   "metadata": {},
   "outputs": [
    {
     "name": "stdout",
     "output_type": "stream",
     "text": [
      "La métaheuristique de descente trouve une solution de cout 90182\n",
      "La métaheuristique de descente  Multi-start (20) trouve une solution de cout 92800\n"
     ]
    }
   ],
   "source": [
    "ins = create_random_instance(200)\n",
    "\n",
    "sol_initiale = random_solution(ins)\n",
    "sol_meta = descente(ins, sol_initiale, find_best_1change)\n",
    "print(\"La métaheuristique de descente trouve une solution de cout\", cost_sol(ins, sol_meta))\n",
    "\n",
    "\n",
    "sol_multistart = descente_multistart(ins, find_best_1change, 20)\n",
    "print(\"La métaheuristique de descente  Multi-start (20) trouve une solution de cout\", \n",
    "      cost_sol(ins, sol_multistart))\n",
    "\n"
   ]
  },
  {
   "cell_type": "markdown",
   "id": "molecular-calculation",
   "metadata": {},
   "source": [
    "## Recuit simulé"
   ]
  },
  {
   "cell_type": "code",
   "execution_count": 34,
   "id": "violent-application",
   "metadata": {},
   "outputs": [
    {
     "name": "stdout",
     "output_type": "stream",
     "text": [
      "Le recuit simulé trouve une solution de cout 12970\n",
      "Recuit simulé + descente trouve une soluiton de cout 103358\n",
      "Descente seule trouve une solution de cout 101066\n"
     ]
    }
   ],
   "source": [
    "def one_neighbor(ins, sol, T):\n",
    "    # On teste la solution où l'on permute la variable x_i\n",
    "    i = r.randint(0, len(sol)-1)\n",
    "    \n",
    "    # Calcul de la difference de coût delta(s, s')\n",
    "    diff = 0\n",
    "    for j in range(len(sol)):\n",
    "        diff += ins[i][j] * sol[j]\n",
    " \n",
    "    if sol[i] == 1 : \n",
    "        diff = -diff\n",
    "    \n",
    "    nb = r.random()\n",
    "   \n",
    "    if T <= 0.0001 or (-diff/T) >= 1 or nb < m.exp(-diff/T):\n",
    "        sol[i] = 1 if sol[i] == 0 else 0\n",
    "    \n",
    "    \n",
    "    \n",
    "        \n",
    "def recuit_simule(ins, solution_initiale, T0, alpha, max_tentatives, get_one_neighbor):\n",
    "    T = T0\n",
    "    s = solution_initiale.copy()\n",
    "    for _ in range(max_tentatives):\n",
    "        one_neighbor(ins, s, T)\n",
    "        T = alpha * T\n",
    "    return s\n",
    "        \n",
    "ins = create_random_instance(200)\n",
    "sol_initiale = random_solution(ins)\n",
    "sol_recuit = recuit_simule(ins, sol_initiale, 10000, 0.99, 1000000, one_neighbor)\n",
    "print(\"Le recuit simulé trouve une solution de cout\", cost_sol(ins, sol_recuit))\n",
    "sol_meta = descente(ins, sol_recuit, find_best_1change)\n",
    "print(\"Recuit simulé + descente trouve une soluiton de cout\", cost_sol(ins, sol_meta))\n",
    "\n",
    "\n",
    "sol_meta = descente(ins, sol_initiale, find_best_1change)\n",
    "print(\"Descente seule trouve une solution de cout\", cost_sol(ins, sol_meta))\n"
   ]
  }
 ],
 "metadata": {
  "kernelspec": {
   "display_name": "Python 3",
   "language": "python",
   "name": "python3"
  },
  "language_info": {
   "codemirror_mode": {
    "name": "ipython",
    "version": 3
   },
   "file_extension": ".py",
   "mimetype": "text/x-python",
   "name": "python",
   "nbconvert_exporter": "python",
   "pygments_lexer": "ipython3",
   "version": "3.8.10"
  }
 },
 "nbformat": 4,
 "nbformat_minor": 5
}
